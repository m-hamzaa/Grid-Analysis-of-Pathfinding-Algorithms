{
 "cells": [
  {
   "cell_type": "code",
   "execution_count": 2,
   "metadata": {},
   "outputs": [],
   "source": [
    "%matplotlib inline\n",
    "import matplotlib.pyplot as plt\n",
    "import random\n",
    "import heapq\n",
    "import math\n",
    "import sys\n",
    "from collections import defaultdict, deque, Counter\n",
    "from itertools import combinations"
   ]
  },
  {
   "cell_type": "code",
   "execution_count": 3,
   "metadata": {},
   "outputs": [],
   "source": [
    "class Problem(object):\n",
    "    \"\"\"The abstract class for a formal problem. A new domain subclasses this,\n",
    "    overriding `actions` and `results`, and perhaps other methods.\n",
    "    The default heuristic is 0 and the default action cost is 1 for all states.\n",
    "    When yiou create an instance of a subclass, specify `initial`, and `goal` states \n",
    "    (or give an `is_goal` method) and perhaps other keyword args for the subclass.\"\"\"\n",
    "\n",
    "    def __init__(self, initial=None, goal=None, **kwds): \n",
    "        self.__dict__.update(initial=initial, goal=goal, **kwds) \n",
    "        \n",
    "    def actions(self, state):        raise NotImplementedError\n",
    "    def result(self, state, action): raise NotImplementedError\n",
    "    def is_goal(self, state):        return state == self.goal\n",
    "    def action_cost(self, s, a, s1): return 1\n",
    "    def h(self, node):               return 0\n",
    "    \n",
    "    def __str__(self):\n",
    "        return '{}({!r}, {!r})'.format(\n",
    "            type(self).__name__, self.initial, self.goal)\n",
    "    \n",
    "\n",
    "class Node:\n",
    "    \"A Node in a search tree.\"\n",
    "    def __init__(self, state, parent=None, action=None, path_cost=0):\n",
    "        self.__dict__.update(state=state, parent=parent, action=action, path_cost=path_cost)\n",
    "\n",
    "    def __repr__(self): return '<{}>'.format(self.state)\n",
    "    def __len__(self): return 0 if self.parent is None else (1 + len(self.parent))\n",
    "    def __lt__(self, other): return self.path_cost < other.path_cost\n",
    "    \n",
    "    \n",
    "failure = Node('failure', path_cost=math.inf) # Indicates an algorithm couldn't find a solution.\n",
    "cutoff  = Node('cutoff',  path_cost=math.inf) # Indicates iterative deepening search was cut off.\n",
    "    \n",
    "    \n",
    "def expand(problem, node):\n",
    "    \"Expand a node, generating the children nodes.\"\n",
    "    s = node.state\n",
    "    for action in problem.actions(s):\n",
    "        s1 = problem.result(s, action)\n",
    "        cost = node.path_cost + problem.action_cost(s, action, s1)\n",
    "        yield Node(s1, node, action, cost)\n",
    "        \n",
    "\n",
    "def path_actions(node):\n",
    "    \"The sequence of actions to get to this node.\"\n",
    "    if node.parent is None:\n",
    "        return []  \n",
    "    return path_actions(node.parent) + [node.action]\n",
    "\n",
    "\n",
    "def path_states(node):\n",
    "    \"The sequence of states to get to this node.\"\n",
    "    if node in (cutoff, failure, None): \n",
    "        return []\n",
    "    return path_states(node.parent) + [node.state]"
   ]
  },
  {
   "cell_type": "code",
   "execution_count": 4,
   "metadata": {},
   "outputs": [],
   "source": [
    "FIFOQueue = deque\n",
    "\n",
    "LIFOQueue = list\n",
    "\n",
    "class PriorityQueue:\n",
    "    \"\"\"A queue in which the item with minimum f(item) is always popped first.\"\"\"\n",
    "\n",
    "    def __init__(self, items=(), key=lambda x: x): \n",
    "        self.key = key\n",
    "        self.items = [] # a heap of (score, item) pairs\n",
    "        for item in items:\n",
    "            self.add(item)\n",
    "         \n",
    "    def add(self, item):\n",
    "        \"\"\"Add item to the queuez.\"\"\"\n",
    "        pair = (self.key(item), item)\n",
    "        heapq.heappush(self.items, pair)\n",
    "\n",
    "    def pop(self):\n",
    "        \"\"\"Pop and return the item with min f(item) value.\"\"\"\n",
    "        return heapq.heappop(self.items)[1]\n",
    "    \n",
    "    def top(self): return self.items[0][1]\n",
    "\n",
    "    def __len__(self): return len(self.items)"
   ]
  },
  {
   "cell_type": "code",
   "execution_count": 5,
   "metadata": {},
   "outputs": [],
   "source": [
    "def is_cycle(node, k=30):\n",
    "    \"Does this node form a cycle of length k or less?\"\n",
    "    def find_cycle(ancestor, k):\n",
    "        return (ancestor is not None and k > 0 and\n",
    "                (ancestor.state == node.state or find_cycle(ancestor.parent, k - 1)))\n",
    "    return find_cycle(node.parent, k)\n",
    "\n",
    "\n",
    "def euclidean_distance(A, B):\n",
    "    \"\"\"Straight-line distance between two points.\"\"\"\n",
    "    return sum(abs(a - b)**2 for (a, b) in zip(A, B)) ** 0.5"
   ]
  },
  {
   "cell_type": "code",
   "execution_count": 264,
   "metadata": {},
   "outputs": [],
   "source": [
    "class GridProblem(Problem):\n",
    "    \"\"\"Finding a path on a 2D grid with obstacles. Obstacles are (x, y) cells.\"\"\"\n",
    "\n",
    "    def __init__(self, initial=(30, 35), goal=(110, 25), obstacles=(), **kwds): \n",
    "        Problem.__init__(self, initial=initial, goal=goal, \n",
    "                         obstacles=set(obstacles) - {initial, goal}, **kwds)\n",
    "\n",
    "    directions = [(-1, -1), (0, -1), (1, -1),\n",
    "                  (-1, 0),           (1,  0),\n",
    "                  (-1, +1), (0, +1), (1, +1)]\n",
    "    \n",
    "    def action_cost(self, s, action, s1): return euclidean_distance(s, s1)\n",
    "    \n",
    "    def h(self, node): return euclidean_distance(node.state, self.goal)\n",
    "                  \n",
    "    def result(self, state, action): \n",
    "        \"Both states and actions are represented by (x, y) pairs.\"\n",
    "        return action if action not in self.obstacles else state\n",
    "    \n",
    "    def actions(self, state):\n",
    "        \"\"\"You can move one cell in any of `directions` to a non-obstacle cell.\"\"\"\n",
    "        x, y = state\n",
    "        return {(x + dx, y + dy) for (dx, dy) in self.directions} - self.obstacles\n",
    "\n",
    "def expand_grid(problem, node):\n",
    "    \"Expand a node, generating the children nodes.\"\n",
    "    s = node.state\n",
    "    for action in problem.actions(s):\n",
    "        s1 = problem.result(s, action)\n",
    "        if 0 <= s1[0] <= 2*problem.goal[0] and 0 <= s1[1] <= 2*problem.goal[1]:\n",
    "            cost = node.path_cost + problem.action_cost(s, action, s1)\n",
    "            yield Node(s1, node, action, cost)\n",
    "\n"
   ]
  },
  {
   "cell_type": "code",
   "execution_count": 265,
   "metadata": {},
   "outputs": [],
   "source": [
    "def breadth_first_search(problem):\n",
    "    \"\"\"BFS implementation\"\"\"\n",
    "    node = Node(problem.initial)\n",
    "    global reached\n",
    "    if problem.is_goal(problem.initial):\n",
    "        return node\n",
    "    frontier = FIFOQueue([node])\n",
    "    reached = {problem.initial}\n",
    "    while frontier:\n",
    "        node = frontier.pop()\n",
    "        for child in expand(problem, node):\n",
    "            s = child.state\n",
    "            if problem.is_goal(s):\n",
    "                return child\n",
    "            if s not in reached:\n",
    "                reached.add(s)\n",
    "                frontier.appendleft(child)\n",
    "    return failure\n",
    "\n",
    "def depth_first_search(problem):\n",
    "    \"\"\"DFS implementation\"\"\"\n",
    "    global reached\n",
    "    node = Node(problem.initial)\n",
    "    reached = {problem.initial}\n",
    "    stack = [node]\n",
    "    while stack:\n",
    "        node = stack.pop()\n",
    "        for child in expand_grid(problem, node):\n",
    "            s = child.state\n",
    "            if problem.is_goal(s):\n",
    "                return node\n",
    "            if s not in reached:\n",
    "                reached.add(s)\n",
    "                stack.append(child)\n",
    "    return failure\n",
    "\n",
    "def dijkstra(problem):\n",
    "    \"\"\"Dijkstra implementation\"\"\"\n",
    "    node = Node(problem.initial)\n",
    "    global reached\n",
    "    if problem.is_goal(problem.initial):\n",
    "        return node\n",
    "    \n",
    "    p_queue = PriorityQueue()\n",
    "    p_queue.add(node)\n",
    "    reached = {problem.initial}\n",
    "    \n",
    "    while p_queue.__len__():\n",
    "        node = p_queue.pop()\n",
    "        for child in expand(problem, node):\n",
    "            s = child.state\n",
    "            if problem.is_goal(s):\n",
    "                return child\n",
    "            if s not in reached:\n",
    "                reached.add(s)\n",
    "                p_queue.add(child)\n",
    "    return failure\n",
    "\n"
   ]
  },
  {
   "cell_type": "code",
   "execution_count": 266,
   "metadata": {},
   "outputs": [],
   "source": [
    "# Some grid routing problems\n",
    "\n",
    "# The following can be used to create obstacles:\n",
    "    \n",
    "def random_lines(X=range(15, 150), Y=range(60), N=150, lengths=range(6, 12)):\n",
    "    \"\"\"The set of cells in N random lines of the given lengths.\"\"\"\n",
    "    result = set()\n",
    "    for _ in range(N):\n",
    "        x, y = random.choice(X), random.choice(Y)\n",
    "        dx, dy = random.choice(((0, 1), (1, 0)))\n",
    "        result |= line(x, y, dx, dy, random.choice(lengths))\n",
    "    return result\n",
    "\n",
    "def line(x, y, dx, dy, length):\n",
    "    \"\"\"A line of `length` cells starting at (x, y) and going in (dx, dy) direction.\"\"\"\n",
    "    return {(x + i * dx, y + i * dy) for i in range(length)}\n",
    "\n",
    "random.seed(42) # To make this reproducible\n",
    "\n",
    "frame = line(-10, 20, 0, 1, 20) | line(150, 20, 0, 1, 20)\n",
    "\n",
    "cup = line(102, 44, -1, 0, 15) | line(102, 20, -1, 0, 20) | line(102, 44, 0, -1, 24)\n",
    "\n",
    "d1 = GridProblem(obstacles=random_lines(N=100) | frame)\n",
    "d2 = GridProblem(obstacles=random_lines(N=150) | frame)\n",
    "d3 = GridProblem(obstacles=random_lines(N=200) | frame)\n",
    "d4 = GridProblem(obstacles=random_lines(N=250) | frame)\n",
    "d5 = GridProblem(obstacles=random_lines(N=300) | frame)\n",
    "d6 = GridProblem(obstacles=cup | frame)\n",
    "d7 = GridProblem(obstacles=cup | frame | line(50, 35, 0, -1, 10) | line(60, 37, 0, -1, 17) | line(70, 31, 0, -1, 19))\n",
    "d8 = GridProblem((0, 0), (20, 30), obstacles=cup | frame)"
   ]
  },
  {
   "cell_type": "code",
   "execution_count": 267,
   "metadata": {},
   "outputs": [],
   "source": [
    "import time\n",
    "\n",
    "def plot_grid_problem(grid, solution, reached=(), title='Search', show=True):\n",
    "    \"Use matplotlib to plot the grid, obstacles, solution, and reached.\"\n",
    "    reached = list(reached)\n",
    "    plt.figure(figsize=(16, 10))\n",
    "    plt.axis('off'); plt.axis('equal')\n",
    "    plt.scatter(*transpose(grid.obstacles), marker='s', color='darkgrey')\n",
    "    plt.scatter(*transpose(reached), 1**2, marker='.', c='blue')\n",
    "    plt.scatter(*transpose(path_states(solution)), marker='s', c='black')\n",
    "    plt.scatter(*transpose([grid.initial]), 9**2, marker='D', c='green')\n",
    "    plt.scatter(*transpose([grid.goal]), 9**2, marker='8', c='red')\n",
    "    if show: plt.show()\n",
    "    print('{} {} search: {:.1f} path cost, {:,d} states reached'\n",
    "          .format(' ' * 10, title, solution.path_cost, len(reached)))\n",
    "    \n",
    "def plots(grid, weights=(1.4, 2)): \n",
    "    \"\"\"Plot the results of a search algorithms for this grid.\"\"\"\n",
    "    start_time = time.time()\n",
    "    solution = depth_first_search(grid)\n",
    "    plot_grid_problem(grid, solution, reached, 'DFS')\n",
    "    print(\"--- %s DFS seconds ---\" % (time.time() - start_time))\n",
    "    start_time = time.time()\n",
    "    solution = breadth_first_search(grid)\n",
    "    plot_grid_problem(grid, solution, reached, 'BFS')\n",
    "    print(\"--- %s BFS seconds ---\" % (time.time() - start_time))\n",
    "    start_time = time.time()\n",
    "    solution = dijkstra(grid)\n",
    "    plot_grid_problem(grid, solution, reached, 'Dijkstra')\n",
    "    print(\"--- %s Dijkstra seconds ---\" % (time.time() - start_time))\n",
    "    \n",
    "    \n",
    "def transpose(matrix): return list(zip(*matrix))"
   ]
  },
  {
   "cell_type": "code",
   "execution_count": 268,
   "metadata": {
    "scrolled": false
   },
   "outputs": [
    {
     "data": {
      "image/png": "[encoded data removed]",
      "text/plain": [
       "<Figure size 1152x720 with 1 Axes>"
      ]
     },
     "metadata": {
      "needs_background": "light"
     },
     "output_type": "display_data"
    },
    {
     "name": "stdout",
     "output_type": "stream",
     "text": [
      "           DFS search: 2314.6 path cost, 8,893 states reached\n",
      "--- 0.3267478942871094 DFS seconds ---\n"
     ]
    },
    {
     "data": {
      "image/png": "[encoded data removed]",
      "text/plain": [
       "<Figure size 1152x720 with 1 Axes>"
      ]
     },
     "metadata": {
      "needs_background": "light"
     },
     "output_type": "display_data"
    },
    {
     "name": "stdout",
     "output_type": "stream",
     "text": [
      "           BFS search: 100.7 path cost, 25,192 states reached\n",
      "--- 0.9155840873718262 BFS seconds ---\n"
     ]
    },
    {
     "data": {
      "image/png": "[encoded data removed]",
      "text/plain": [
       "<Figure size 1152x720 with 1 Axes>"
      ]
     },
     "metadata": {
      "needs_background": "light"
     },
     "output_type": "display_data"
    },
    {
     "name": "stdout",
     "output_type": "stream",
     "text": [
      "           Dijkstra search: 89.1 path cost, 22,143 states reached\n",
      "--- 0.9859709739685059 Dijkstra seconds ---\n"
     ]
    }
   ],
   "source": [
    "plots(d6)"
   ]
  },
  {
   "cell_type": "code",
   "execution_count": null,
   "metadata": {},
   "outputs": [],
   "source": []
  },
  {
   "cell_type": "code",
   "execution_count": null,
   "metadata": {},
   "outputs": [],
   "source": []
  }
 ],
 "metadata": {
  "kernelspec": {
   "display_name": "Python 3",
   "language": "python",
   "name": "python3"
  },
  "language_info": {
   "codemirror_mode": {
    "name": "ipython",
    "version": 3
   },
   "file_extension": ".py",
   "mimetype": "text/x-python",
   "name": "python",
   "nbconvert_exporter": "python",
   "pygments_lexer": "ipython3",
   "version": "3.8.9"
  }
 },
 "nbformat": 4,
 "nbformat_minor": 4
}
